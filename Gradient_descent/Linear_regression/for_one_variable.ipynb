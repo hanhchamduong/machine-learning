{
 "cells": [
  {
   "cell_type": "code",
   "execution_count": 2,
   "metadata": {},
   "outputs": [],
   "source": [
    "import numpy as np\n",
    "import math"
   ]
  },
  {
   "cell_type": "code",
   "execution_count": 1,
   "metadata": {},
   "outputs": [],
   "source": [
    "def cost(X,y,w,b):\n",
    "    m=X.shape[0]\n",
    "    J=0\n",
    "    for i in range(m):\n",
    "        f_wb = X[i] * w+b\n",
    "        J = J + (f_wb - y[i])**2\n",
    "    J=J/(2*m)\n",
    "    return J\n",
    "\n",
    "def compute_gradient(X, y, w,b):\n",
    "    dj_dw = 0\n",
    "    dj_db = 0\n",
    "    m = X.shape[0]\n",
    "    for i in range(m):\n",
    "        f_wb = X[i]*w+b\n",
    "        dj_dw_i = (f_wb - y[i])*X[i]\n",
    "        dj_db_i = f_wb - y[i]\n",
    "        dj_dw+=dj_dw_i\n",
    "        dj_db+=dj_db_i\n",
    "    \n",
    "    dj_dw/=m\n",
    "    dj_db/=m\n",
    "    return dj_dw, dj_db\n",
    "\n",
    "def gradient_descent(X,y,w_in,b_in, alpha, num_iters):\n",
    "    w=w_old=w_in\n",
    "    b=b_in\n",
    "    it=0\n",
    "    J_hist=[]\n",
    "    while it<num_iters:\n",
    "        it+=1\n",
    "        dj_dw, dj_db = compute_gradient(X,y,w_in,b_in)\n",
    "        w = w_old - alpha*dj_dw\n",
    "        b = b - alpha*dj_db\n",
    "        J_i = cost(X,y,w,b)\n",
    "        J_hist.append(J_i)\n",
    "        if w - w_old <1e-5:\n",
    "            break\n",
    "        w_old = w   \n",
    "    return w,b,J_hist,it\n"
   ]
  },
  {
   "cell_type": "code",
   "execution_count": null,
   "metadata": {},
   "outputs": [],
   "source": []
  }
 ],
 "metadata": {
  "kernelspec": {
   "display_name": "Python 3",
   "language": "python",
   "name": "python3"
  },
  "language_info": {
   "codemirror_mode": {
    "name": "ipython",
    "version": 3
   },
   "file_extension": ".py",
   "mimetype": "text/x-python",
   "name": "python",
   "nbconvert_exporter": "python",
   "pygments_lexer": "ipython3",
   "version": "3.11.9"
  }
 },
 "nbformat": 4,
 "nbformat_minor": 2
}
