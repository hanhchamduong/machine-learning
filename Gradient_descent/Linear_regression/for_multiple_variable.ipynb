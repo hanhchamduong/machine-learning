{
 "cells": [
  {
   "cell_type": "code",
   "execution_count": 2,
   "metadata": {},
   "outputs": [],
   "source": [
    "import numpy as np"
   ]
  },
  {
   "cell_type": "code",
   "execution_count": 3,
   "metadata": {},
   "outputs": [],
   "source": [
    "def compute_cost(X,y,w,b):\n",
    "    '''\n",
    "    X: (m,n)\n",
    "    y: (m)\n",
    "    w: (n,)\n",
    "    '''\n",
    "    m=X.shape[0]\n",
    "    cost=0\n",
    "    for i in range(m):\n",
    "        f_wb_i = np.dot(X[i],w) + b \n",
    "        cost+=(f_wb_i - y[i])**2\n",
    "    cost=cost/(2*m)\n",
    "    return cost"
   ]
  },
  {
   "cell_type": "code",
   "execution_count": 3,
   "metadata": {},
   "outputs": [],
   "source": [
    "def compute_gradient(X,y,w,b):\n",
    "    m,n = X.shape\n",
    "    dj_dw = np.zeros((n,))\n",
    "    dj_db = 0\n",
    "    for i in range(m):\n",
    "        err = np.dot(X[i],w) + b - y[i]\n",
    "        dj_db+=err\n",
    "        for j in range(n):\n",
    "            dj_dw[j] = dj_dw[j] + err*X[i,j]\n",
    "    \n",
    "    dj_dw/=m\n",
    "    dj_db/=m\n",
    "    return dj_dw, dj_db\n",
    "\n",
    "        "
   ]
  },
  {
   "cell_type": "code",
   "execution_count": 10,
   "metadata": {},
   "outputs": [],
   "source": [
    "def gradient_descent(X,y,w_in,b_in, alpha, num_iters):\n",
    "    w=[w_in]\n",
    "    b=b_in\n",
    "    J_hist=[]\n",
    "    it=0\n",
    "    while it<num_iters:\n",
    "        it+=1\n",
    "        dj_dw, dj_db = compute_gradient(X,y,w,b)\n",
    "        w_new=w[-1]-alpha*dj_dw\n",
    "        b=b-alpha*dj_db\n",
    "        cost_i = compute_cost(X,y,w_new,b)\n",
    "        J_hist.append(cost_i)\n",
    "        if np.linalg.norm(w_new - w[-1] ) < 1e-5:\n",
    "            break\n",
    "        w.append(w_new)\n",
    "    return w[-1],b, J_hist,it\n",
    "        "
   ]
  },
  {
   "cell_type": "code",
   "execution_count": null,
   "metadata": {},
   "outputs": [],
   "source": []
  }
 ],
 "metadata": {
  "kernelspec": {
   "display_name": "Python 3",
   "language": "python",
   "name": "python3"
  },
  "language_info": {
   "codemirror_mode": {
    "name": "ipython",
    "version": 3
   },
   "file_extension": ".py",
   "mimetype": "text/x-python",
   "name": "python",
   "nbconvert_exporter": "python",
   "pygments_lexer": "ipython3",
   "version": "3.11.9"
  }
 },
 "nbformat": 4,
 "nbformat_minor": 2
}
