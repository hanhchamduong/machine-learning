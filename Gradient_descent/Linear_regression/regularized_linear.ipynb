{
 "cells": [
  {
   "cell_type": "code",
   "execution_count": 1,
   "metadata": {},
   "outputs": [],
   "source": [
    "import numpy as np"
   ]
  },
  {
   "cell_type": "code",
   "execution_count": 1,
   "metadata": {},
   "outputs": [],
   "source": [
    "def compute_cost(X,y,w,b,lamda_):\n",
    "    '''\n",
    "    X: (m,n)\n",
    "    y: (m,)\n",
    "    w: (n,)\n",
    "    '''\n",
    "    m,n=X.shape\n",
    "    cost = 0\n",
    "    for i in range(m):\n",
    "        f_wb_i = np.dot(X[i],w) + b \n",
    "        cost+=(f_wb_i-y[i])**2\n",
    "    cost = cost/(2*m)\n",
    "    \n",
    "    reg_cost=0\n",
    "    for j in range(n):\n",
    "        reg_cost+=w[j]**2\n",
    "        \n",
    "    reg_cost = (reg_cost*lamda_)/(2*m)\n",
    "    \n",
    "    J = cost+reg_cost\n",
    "    return J"
   ]
  },
  {
   "cell_type": "code",
   "execution_count": 3,
   "metadata": {},
   "outputs": [],
   "source": [
    "def compute_gradient(X,y,w,b,lambda_):\n",
    "    m,n = X.shape\n",
    "    dj_dw=np.zeros((n,))\n",
    "    dj_db=0\n",
    "    for i in range(m):\n",
    "        f_wb_i = np.dot(X[i],w)+b\n",
    "        err = f_wb_i - y[i]\n",
    "        dj_db+=err\n",
    "        for j in range(n):\n",
    "            dj_dw[j] = dj_dw[j] + err * X[i,j]\n",
    "    \n",
    "    dj_dw/=m\n",
    "    dj_db/=m\n",
    "    \n",
    "    for j in range(n):\n",
    "        dj_dw[j] += lambda_/m * w[j]\n",
    "    \n",
    "    return dj_dw,dj_db"
   ]
  },
  {
   "cell_type": "code",
   "execution_count": 1,
   "metadata": {},
   "outputs": [],
   "source": [
    "def gradient_descent(X,y,w_in,b_in,alpha, num_iters, lambda_):\n",
    "    w=w_old =w_in\n",
    "    b=b_in\n",
    "    J_hist=[]\n",
    "    it=0\n",
    "    while it<num_iters:\n",
    "        it+=1\n",
    "        dj_dw,dj_db = compute_gradient(X,y,w,b,lambda_)\n",
    "        w -= alpha*dj_dw\n",
    "        b -= alpha*dj_db\n",
    "        cost_i = compute_cost(X,y,w,b,lambda_)\n",
    "        J_hist.append(cost_i)\n",
    "        if np.linalg.norm(w_old - w) < 1e-5:\n",
    "            break\n",
    "        w_old = w \n",
    "    return w,b,J_hist,it"
   ]
  },
  {
   "cell_type": "code",
   "execution_count": null,
   "metadata": {},
   "outputs": [],
   "source": []
  }
 ],
 "metadata": {
  "kernelspec": {
   "display_name": "Python 3",
   "language": "python",
   "name": "python3"
  },
  "language_info": {
   "codemirror_mode": {
    "name": "ipython",
    "version": 3
   },
   "file_extension": ".py",
   "mimetype": "text/x-python",
   "name": "python",
   "nbconvert_exporter": "python",
   "pygments_lexer": "ipython3",
   "version": "3.11.9"
  }
 },
 "nbformat": 4,
 "nbformat_minor": 2
}
