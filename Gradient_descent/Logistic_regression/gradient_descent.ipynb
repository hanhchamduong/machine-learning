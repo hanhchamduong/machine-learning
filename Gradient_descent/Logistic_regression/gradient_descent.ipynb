{
 "cells": [
  {
   "cell_type": "code",
   "execution_count": 1,
   "metadata": {},
   "outputs": [],
   "source": [
    "import numpy as np"
   ]
  },
  {
   "cell_type": "code",
   "execution_count": 2,
   "metadata": {},
   "outputs": [],
   "source": [
    "def sigmoid(z):\n",
    "    g = 1/np.exp(-z)\n",
    "    return g\n",
    "\n",
    "def compute_cost(X,y,w,b):\n",
    "    '''\n",
    "    X: (m,n)\n",
    "    y: (m, )\n",
    "    w: (n,)\n",
    "    '''\n",
    "    m=X.shape[0]\n",
    "    J=0\n",
    "    for i in range(m):\n",
    "        f_wb = sigmoid(np.dot(X[i],w)+b)\n",
    "        J = J + y[i]*np.log(f_wb) + (1-y[i])*np.log(1-f_wb)\n",
    "    J=-J/m\n",
    "    return J\n",
    "\n",
    "def compute_gradient(X,y,w,b):\n",
    "    m,n = X.shape\n",
    "    dj_dw = np.zeros((n,))\n",
    "    dj_db = 0\n",
    "    for i in range(m):\n",
    "        f_wb = sigmoid(np.dot(X[i],w)+b)\n",
    "        err = f_wb - y[i]\n",
    "        dj_db+=err\n",
    "        for j in range(n):\n",
    "            dj_dw[j] =  dj_dw[j]+err*X[i,j]\n",
    "    \n",
    "    dj_dw/=m\n",
    "    dj_db/=m\n",
    "    return dj_dw, dj_db\n",
    "\n",
    "\n",
    "def gradient_descent(X,y,w_in,b_in,alpha, num_iters):\n",
    "    w=w_old=w_in\n",
    "    b=b_in\n",
    "    J_hist=[]\n",
    "    it=0\n",
    "    while it<num_iters:\n",
    "        it+=1\n",
    "        dj_dw, dj_db = compute_gradient(X,y,w,b)\n",
    "        w=w-alpha*dj_dw\n",
    "        b=b-alpha*dj_db\n",
    "        J_new = compute_cost(X,y,w,b)\n",
    "        J_hist.append(J_new)\n",
    "        if np.linalg.norm(w_old - w) < 1e-5:\n",
    "            break\n",
    "        w_old=w\n",
    "    return w,b,J_hist,it\n",
    "    "
   ]
  },
  {
   "cell_type": "code",
   "execution_count": null,
   "metadata": {},
   "outputs": [],
   "source": []
  }
 ],
 "metadata": {
  "kernelspec": {
   "display_name": "Python 3",
   "language": "python",
   "name": "python3"
  },
  "language_info": {
   "codemirror_mode": {
    "name": "ipython",
    "version": 3
   },
   "file_extension": ".py",
   "mimetype": "text/x-python",
   "name": "python",
   "nbconvert_exporter": "python",
   "pygments_lexer": "ipython3",
   "version": "3.11.9"
  }
 },
 "nbformat": 4,
 "nbformat_minor": 2
}
