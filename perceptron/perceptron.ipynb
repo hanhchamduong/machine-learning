{
 "cells": [
  {
   "cell_type": "code",
   "execution_count": 1,
   "metadata": {},
   "outputs": [],
   "source": [
    "import numpy as np\n"
   ]
  },
  {
   "cell_type": "code",
   "execution_count": 6,
   "metadata": {},
   "outputs": [],
   "source": [
    "def predict(w,X):\n",
    "    #X:(N,d)\n",
    "    #w:(d,)\n",
    "    return np.sign(X.dot(w))\n",
    "\n",
    "def perceptron(X,y,w_init):\n",
    "    '''\n",
    "    X:(N,d)\n",
    "    y:(N,)\n",
    "    w_init:(d,)\n",
    "    '''\n",
    "    w=w_init\n",
    "    while True:\n",
    "        pred = predict(w,X)\n",
    "        # tìm index của các điểm phân loại sai\n",
    "        mis_idxs = np.where(np.equal(pred,y)==False)[0]\n",
    "        num_miss = mis_idxs.shape[0]\n",
    "        if num_miss==0:\n",
    "            return w\n",
    "        random_id = np.random.choice(mis_idxs, 1)[0]\n",
    "        w=w+y[random_id]*X[random_id]\n",
    "    return w\n",
    "        "
   ]
  },
  {
   "cell_type": "code",
   "execution_count": 8,
   "metadata": {},
   "outputs": [
    {
     "name": "stdout",
     "output_type": "stream",
     "text": [
      "1\n"
     ]
    }
   ],
   "source": []
  },
  {
   "cell_type": "code",
   "execution_count": null,
   "metadata": {},
   "outputs": [],
   "source": []
  }
 ],
 "metadata": {
  "kernelspec": {
   "display_name": "Python 3",
   "language": "python",
   "name": "python3"
  },
  "language_info": {
   "codemirror_mode": {
    "name": "ipython",
    "version": 3
   },
   "file_extension": ".py",
   "mimetype": "text/x-python",
   "name": "python",
   "nbconvert_exporter": "python",
   "pygments_lexer": "ipython3",
   "version": "3.11.9"
  }
 },
 "nbformat": 4,
 "nbformat_minor": 2
}
